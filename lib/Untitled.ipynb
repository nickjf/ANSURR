{
 "cells": [
  {
   "cell_type": "code",
   "execution_count": 3,
   "metadata": {},
   "outputs": [],
   "source": [
    "corr = []\n",
    "corr_str = 'corr_benchmark = ['\n",
    "for line in open('benchmark_corr','r'):\n",
    "    corr_str += line.replace('\\n','') + ','\n",
    "corr_str = corr_str[:-1]+']'\n",
    "\n",
    "out = open('benchmark.py','w')\n",
    "\n",
    "out.write(corr_str)\n",
    "out.close()"
   ]
  },
  {
   "cell_type": "code",
   "execution_count": 11,
   "metadata": {},
   "outputs": [],
   "source": [
    "\n",
    "\n",
    "corr_benchmark = []\n",
    "for line in open('benchmark_corr','r'):\n",
    "    corr_benchmark.append(float(line))\n"
   ]
  }
 ],
 "metadata": {
  "kernelspec": {
   "display_name": "Python 3",
   "language": "python",
   "name": "python3"
  },
  "language_info": {
   "codemirror_mode": {
    "name": "ipython",
    "version": 3
   },
   "file_extension": ".py",
   "mimetype": "text/x-python",
   "name": "python",
   "nbconvert_exporter": "python",
   "pygments_lexer": "ipython3",
   "version": "3.7.4"
  }
 },
 "nbformat": 4,
 "nbformat_minor": 4
}
